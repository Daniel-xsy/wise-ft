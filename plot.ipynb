{
 "cells": [
  {
   "cell_type": "code",
   "execution_count": 15,
   "metadata": {},
   "outputs": [],
   "source": [
    "import matplotlib.pyplot as plt\n",
    "import pandas as pd\n",
    "import numpy as np\n",
    "import scipy\n",
    "import os"
   ]
  },
  {
   "cell_type": "code",
   "execution_count": 16,
   "metadata": {},
   "outputs": [],
   "source": [
    "def adjust_plot(ax, xrange, yrange, scaling=None, tick_freq=0.05):\n",
    "\n",
    "    if type(tick_freq) is tuple:\n",
    "        xtick_freq, ytick_freq = tick_freq[0], tick_freq[1]\n",
    "    else:\n",
    "        xtick_freq, ytick_freq = tick_freq, tick_freq\n",
    "\n",
    "    if scaling == 'probit':\n",
    "        h = scipy.stats.norm.ppf\n",
    "    elif scaling == 'logit':\n",
    "        h = lambda p: np.log(p / (1 - p))\n",
    "    else:\n",
    "        h = lambda p: p\n",
    "\n",
    "    def transform(z):\n",
    "        return [h(p) for p in z]\n",
    "\n",
    "    tick_loc_x = [round(z, 2) for z in np.arange(xrange[0], xrange[1], xtick_freq)]\n",
    "    ax.set_xticks(transform(tick_loc_x))\n",
    "    ax.set_xticklabels([str(round(loc * 100)) for loc in tick_loc_x], fontsize=13)\n",
    "\n",
    "    tick_loc_y = [round(z, 2) for z in np.arange(yrange[0], yrange[1], ytick_freq)]\n",
    "    ax.set_yticks(transform(tick_loc_y))\n",
    "    ax.set_yticklabels([str(round(loc * 100)) for loc in tick_loc_y], fontsize=13)\n",
    "\n",
    "    z = np.arange(min(xrange[0], yrange[0]), max(xrange[1], yrange[1]), 0.01)\n",
    "\n",
    "    ax.set_ylim(h(yrange[0]), h(yrange[1]))\n",
    "    ax.set_xlim(h(xrange[0]), h(xrange[1]))\n",
    "\n",
    "    ax.grid(linewidth=0.5)\n",
    "\n",
    "    return transform\n",
    "    \n",
    "\n",
    "def plot(results_db_list, eval_dataset, save_path):\n",
    "    fig, ax = plt.subplots()\n",
    "\n",
    "    df = dict()\n",
    "    finetuned = dict()\n",
    "    wise_ft = dict()\n",
    "    for results_db in results_db_list:\n",
    "        df[results_db] = pd.read_json(results_db, lines=True)\n",
    "        df[results_db] = df[[results_db]][df[results_db].alpha.apply(lambda x: isinstance(x, float))]\n",
    "        try:\n",
    "            zeroshot = df[results_db][df[results_db].alpha == 0]\n",
    "        except:\n",
    "            pass\n",
    "        finetuned[results_db] = df[results_db][df[results_db].alpha == 1]\n",
    "        wise_ft[results_db] = df[results_db][(df[results_db].alpha > 0) & (df[results_db].alpha < 1)]\n",
    "    \n",
    "    x = 'ImageNet:top1'\n",
    "    y = f'{eval_dataset}:top1'\n",
    "\n",
    "    min_x = min([df[key][x] for key in list(df.keys())])\n",
    "    max_x = max([df[key][x] for key in list(df.keys())])\n",
    "    min_y = min([df[key][y] for key in list(df.keys())])\n",
    "    max_y = max([df[key][y] for key in list(df.keys())])\n",
    "\n",
    "    x_range = (0.95 * min_x, 1.05 * max_x)\n",
    "    y_range = (0.95 * min_y, 1.05 * max_y)\n",
    "\n",
    "    transform = adjust_plot(ax, x_range, y_range, scaling=None)\n",
    "\n",
    "    # Add zero-shot\n",
    "    ax.scatter(\n",
    "        transform(zeroshot[x]), transform(zeroshot[y]),\n",
    "        label=f\"CLIP zero-shot\", marker='*', s=200, alpha=0.8, c='C4',\n",
    "    )\n",
    "\n",
    "    for results_db in results_db_list:\n",
    "        # Add fine-tuned\n",
    "        ax.scatter(\n",
    "            transform(finetuned[results_db][x]), transform(finetuned[results_db][y]),\n",
    "            label=f\"CLIP fine-tuned\", marker='D', s=100, alpha=0.8, c='C1',\n",
    "        )\n",
    "\n",
    "        # Add WiSE-FT\n",
    "        ax.scatter(\n",
    "            transform(wise_ft[results_db][x]), transform(wise_ft[results_db]    [y]),\n",
    "            label=f\"WiSE-FT\", marker='d', s=100, alpha=0.8, c='C6',\n",
    "        )\n",
    "\n",
    "    ax.set_xlabel('In-distribution accuracy (ImageNet)', fontsize=16)\n",
    "    ax.set_ylabel(f'OOD accuracy ({eval_dataset})', fontsize=16)\n",
    "    ax.legend(\n",
    "        loc='upper center', bbox_to_anchor=(0.5, 1.13),\n",
    "        ncol=3, fancybox=True\n",
    "    )\n",
    "    plt.savefig(save_path, bbox_inches='tight', transparent=False)"
   ]
  },
  {
   "cell_type": "code",
   "execution_count": 18,
   "metadata": {},
   "outputs": [
    {
     "ename": "TypeError",
     "evalue": "unhashable type: 'list'",
     "output_type": "error",
     "traceback": [
      "\u001b[0;31m---------------------------------------------------------------------------\u001b[0m",
      "\u001b[0;31mTypeError\u001b[0m                                 Traceback (most recent call last)",
      "\u001b[1;32m/home/cihangxie/shaoyuan/wise-ft/plot.ipynb Cell 3\u001b[0m in \u001b[0;36m<cell line: 9>\u001b[0;34m()\u001b[0m\n\u001b[1;32m      <a href='vscode-notebook-cell://ssh-remote%2Bvila-4u-6/home/cihangxie/shaoyuan/wise-ft/plot.ipynb#ch0000005vscode-remote?line=8'>9</a>\u001b[0m \u001b[39mfor\u001b[39;00m eval_dataset \u001b[39min\u001b[39;00m eval_datasets:\n\u001b[1;32m     <a href='vscode-notebook-cell://ssh-remote%2Bvila-4u-6/home/cihangxie/shaoyuan/wise-ft/plot.ipynb#ch0000005vscode-remote?line=9'>10</a>\u001b[0m     save_path \u001b[39m=\u001b[39m os\u001b[39m.\u001b[39mpath\u001b[39m.\u001b[39mjoin(save, \u001b[39mf\u001b[39m\u001b[39m'\u001b[39m\u001b[39m{\u001b[39;00meval_dataset\u001b[39m}\u001b[39;00m\u001b[39m.png\u001b[39m\u001b[39m'\u001b[39m)\n\u001b[0;32m---> <a href='vscode-notebook-cell://ssh-remote%2Bvila-4u-6/home/cihangxie/shaoyuan/wise-ft/plot.ipynb#ch0000005vscode-remote?line=10'>11</a>\u001b[0m     plot(results_db_list, eval_dataset, save_path)\n",
      "\u001b[1;32m/home/cihangxie/shaoyuan/wise-ft/plot.ipynb Cell 3\u001b[0m in \u001b[0;36mplot\u001b[0;34m(results_db_list, eval_dataset, save_path)\u001b[0m\n\u001b[1;32m     <a href='vscode-notebook-cell://ssh-remote%2Bvila-4u-6/home/cihangxie/shaoyuan/wise-ft/plot.ipynb#ch0000005vscode-remote?line=41'>42</a>\u001b[0m \u001b[39mfor\u001b[39;00m results_db \u001b[39min\u001b[39;00m results_db_list:\n\u001b[1;32m     <a href='vscode-notebook-cell://ssh-remote%2Bvila-4u-6/home/cihangxie/shaoyuan/wise-ft/plot.ipynb#ch0000005vscode-remote?line=42'>43</a>\u001b[0m     df[results_db] \u001b[39m=\u001b[39m pd\u001b[39m.\u001b[39mread_json(results_db, lines\u001b[39m=\u001b[39m\u001b[39mTrue\u001b[39;00m)\n\u001b[0;32m---> <a href='vscode-notebook-cell://ssh-remote%2Bvila-4u-6/home/cihangxie/shaoyuan/wise-ft/plot.ipynb#ch0000005vscode-remote?line=43'>44</a>\u001b[0m     df[results_db] \u001b[39m=\u001b[39m df[[results_db]][df[results_db]\u001b[39m.\u001b[39malpha\u001b[39m.\u001b[39mapply(\u001b[39mlambda\u001b[39;00m x: \u001b[39misinstance\u001b[39m(x, \u001b[39mfloat\u001b[39m))]\n\u001b[1;32m     <a href='vscode-notebook-cell://ssh-remote%2Bvila-4u-6/home/cihangxie/shaoyuan/wise-ft/plot.ipynb#ch0000005vscode-remote?line=44'>45</a>\u001b[0m     \u001b[39mtry\u001b[39;00m:\n\u001b[1;32m     <a href='vscode-notebook-cell://ssh-remote%2Bvila-4u-6/home/cihangxie/shaoyuan/wise-ft/plot.ipynb#ch0000005vscode-remote?line=45'>46</a>\u001b[0m         zeroshot \u001b[39m=\u001b[39m df[results_db][df[results_db]\u001b[39m.\u001b[39malpha \u001b[39m==\u001b[39m \u001b[39m0\u001b[39m]\n",
      "\u001b[0;31mTypeError\u001b[0m: unhashable type: 'list'"
     ]
    },
    {
     "data": {
      "image/png": "[encoded data removed]",
      "text/plain": [
       "<Figure size 432x288 with 1 Axes>"
      ]
     },
     "metadata": {
      "needs_background": "light"
     },
     "output_type": "display_data"
    }
   ],
   "source": [
    "eval_datasets = ['ImageNetA', 'ImageNetSketch']\n",
    "save = 'images/results'\n",
    "results_db_list = ['/home/cihangxie/shaoyuan/wise-ft/results/end-to-end.jsonl',\n",
    "                   '/home/cihangxie/shaoyuan/wise-ft/results/frozen2.jsonl',\n",
    "                   '/home/cihangxie/shaoyuan/wise-ft/results/frozen4.jsonl',\n",
    "                   '/home/cihangxie/shaoyuan/wise-ft/results/frozen6.jsonl',\n",
    "                   '/home/cihangxie/shaoyuan/wise-ft/results/frozen8.jsonl',\n",
    "                   '/home/cihangxie/shaoyuan/wise-ft/results/frozen10.jsonl',]\n",
    "for eval_dataset in eval_datasets:\n",
    "    save_path = os.path.join(save, f'{eval_dataset}.png')\n",
    "    plot(results_db_list, eval_dataset, save_path)"
   ]
  },
  {
   "cell_type": "code",
   "execution_count": null,
   "metadata": {},
   "outputs": [],
   "source": []
  }
 ],
 "metadata": {
  "kernelspec": {
   "display_name": "Python 3.8.12 ('slip')",
   "language": "python",
   "name": "python3"
  },
  "language_info": {
   "codemirror_mode": {
    "name": "ipython",
    "version": 3
   },
   "file_extension": ".py",
   "mimetype": "text/x-python",
   "name": "python",
   "nbconvert_exporter": "python",
   "pygments_lexer": "ipython3",
   "version": "3.8.12"
  },
  "orig_nbformat": 4,
  "vscode": {
   "interpreter": {
    "hash": "1e392ade829d56a21265868319445506eabcb1327f8a05ef316c0c02793c6016"
   }
  }
 },
 "nbformat": 4,
 "nbformat_minor": 2
}
